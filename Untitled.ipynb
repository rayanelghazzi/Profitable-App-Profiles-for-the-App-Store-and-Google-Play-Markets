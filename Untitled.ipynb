{
 "cells": [
  {
   "cell_type": "markdown",
   "metadata": {},
   "source": [
    "# Profitable App Profiles for the App Store and Google Play Markets\n",
    "\n",
    "The aim of this project is to analyze data to help developers understand what kinds of apps are likely to attract more users. We will pretend to be working as data analysts for a company that builds Android and IOS mobile apps. We make our apps available on Google Play and the App Store.\n",
    "We will assume the following:\n",
    "* The apps we build are free to download and install\n",
    "* Our main source of revenue consists of in-app ads\n",
    "* Our revenue for any given app is mostly influenced by the number of users who use our app, so the more users the better\n",
    "* The data is directed to an english-speaking audience\n",
    "\n"
   ]
  },
  {
   "cell_type": "code",
   "execution_count": 2,
   "metadata": {},
   "outputs": [],
   "source": [
    "from csv import reader\n",
    "\n",
    "opened_file1=open('AppleStore.csv',encoding='utf8')\n",
    "read1=reader(opened_file1)\n",
    "ios=list(read1)\n",
    "ios_header=ios[0]\n",
    "ios=ios[1:]\n",
    "\n",
    "\n",
    "opened_file2=open('googleplaystore.csv',encoding='utf8')\n",
    "read2=reader(opened_file2)\n",
    "android=list(read2)\n",
    "android_header=android[0]\n",
    "android=android[1:]"
   ]
  },
  {
   "cell_type": "markdown",
   "metadata": {},
   "source": [
    "We will now write a function that prints the data in a more readable way:"
   ]
  },
  {
   "cell_type": "code",
   "execution_count": 3,
   "metadata": {},
   "outputs": [],
   "source": [
    "def explore_data(dataset,start,end,row_and_columns=False):\n",
    "    dataset_slice=dataset[start:end]\n",
    "    for row in dataset_slice:\n",
    "        print(row)\n",
    "        print('\\n')\n",
    "        \n",
    "\n",
    "    if row_and_columns:\n",
    "        print ('Number of rows:' ,len(dataset))\n",
    "        print('Number of columns:', len(dataset[0]))"
   ]
  },
  {
   "cell_type": "markdown",
   "metadata": {},
   "source": [
    "## Apple Store dataset\n",
    "Click [here](https://www.kaggle.com/ramamet4/app-store-apple-data-set-10k-apps/home) to access its documentation"
   ]
  },
  {
   "cell_type": "code",
   "execution_count": 4,
   "metadata": {},
   "outputs": [
    {
     "name": "stdout",
     "output_type": "stream",
     "text": [
      "['', 'id', 'track_name', 'size_bytes', 'currency', 'price', 'rating_count_tot', 'rating_count_ver', 'user_rating', 'user_rating_ver', 'ver', 'cont_rating', 'prime_genre', 'sup_devices.num', 'ipadSc_urls.num', 'lang.num', 'vpp_lic']\n",
      "\n",
      "\n",
      "['1', '281656475', 'PAC-MAN Premium', '100788224', 'USD', '3.99', '21292', '26', '4', '4.5', '6.3.5', '4+', 'Games', '38', '5', '10', '1']\n",
      "\n",
      "\n",
      "['2', '281796108', 'Evernote - stay organized', '158578688', 'USD', '0', '161065', '26', '4', '3.5', '8.2.2', '4+', 'Productivity', '37', '5', '23', '1']\n",
      "\n",
      "\n",
      "['3', '281940292', 'WeatherBug - Local Weather, Radar, Maps, Alerts', '100524032', 'USD', '0', '188583', '2822', '3.5', '4.5', '5.0.0', '4+', 'Weather', '37', '5', '3', '1']\n",
      "\n",
      "\n",
      "['4', '282614216', 'eBay: Best App to Buy, Sell, Save! Online Shopping', '128512000', 'USD', '0', '262241', '649', '4', '4.5', '5.10.0', '12+', 'Shopping', '37', '5', '9', '1']\n",
      "\n",
      "\n",
      "['5', '282935706', 'Bible', '92774400', 'USD', '0', '985920', '5320', '4.5', '5', '7.5.1', '4+', 'Reference', '37', '5', '45', '1']\n",
      "\n",
      "\n",
      "Number of rows: 7197\n",
      "Number of columns: 17\n"
     ]
    }
   ],
   "source": [
    "print(ios_header)\n",
    "print('\\n')\n",
    "explore_data(ios,0,5,True)"
   ]
  },
  {
   "cell_type": "markdown",
   "metadata": {},
   "source": [
    "## Google Play Store dataset \n",
    "Click [here](https://www.kaggle.com/lava18/google-play-store-apps/home) to access its documentation"
   ]
  },
  {
   "cell_type": "code",
   "execution_count": 5,
   "metadata": {},
   "outputs": [
    {
     "name": "stdout",
     "output_type": "stream",
     "text": [
      "['App', 'Category', 'Rating', 'Reviews', 'Size', 'Installs', 'Type', 'Price', 'Content Rating', 'Genres', 'Last Updated', 'Current Ver', 'Android Ver']\n",
      "\n",
      "\n",
      "['Photo Editor & Candy Camera & Grid & ScrapBook', 'ART_AND_DESIGN', '4.1', '159', '19M', '10,000+', 'Free', '0', 'Everyone', 'Art & Design', 'January 7, 2018', '1.0.0', '4.0.3 and up']\n",
      "\n",
      "\n",
      "['Coloring book moana', 'ART_AND_DESIGN', '3.9', '967', '14M', '500,000+', 'Free', '0', 'Everyone', 'Art & Design;Pretend Play', 'January 15, 2018', '2.0.0', '4.0.3 and up']\n",
      "\n",
      "\n",
      "['U Launcher Lite – FREE Live Cool Themes, Hide Apps', 'ART_AND_DESIGN', '4.7', '87510', '8.7M', '5,000,000+', 'Free', '0', 'Everyone', 'Art & Design', 'August 1, 2018', '1.2.4', '4.0.3 and up']\n",
      "\n",
      "\n",
      "['Sketch - Draw & Paint', 'ART_AND_DESIGN', '4.5', '215644', '25M', '50,000,000+', 'Free', '0', 'Teen', 'Art & Design', 'June 8, 2018', 'Varies with device', '4.2 and up']\n",
      "\n",
      "\n",
      "['Pixel Draw - Number Art Coloring Book', 'ART_AND_DESIGN', '4.3', '967', '2.8M', '100,000+', 'Free', '0', 'Everyone', 'Art & Design;Creativity', 'June 20, 2018', '1.1', '4.4 and up']\n",
      "\n",
      "\n",
      "Number of rows: 10841\n",
      "Number of columns: 13\n"
     ]
    }
   ],
   "source": [
    "print(android_header)\n",
    "print('\\n')\n",
    "explore_data(android,0,5,True)\n"
   ]
  },
  {
   "cell_type": "markdown",
   "metadata": {},
   "source": [
    "# Data cleaning"
   ]
  },
  {
   "cell_type": "markdown",
   "metadata": {},
   "source": [
    "## Step 1: \n",
    "If we read the google play store dataset [discussions](https://www.kaggle.com/lava18/google-play-store-apps/discussion/66015), it is mentioned that an error occurs for the row 10472 (or 10473 with the header)."
   ]
  },
  {
   "cell_type": "code",
   "execution_count": 6,
   "metadata": {},
   "outputs": [
    {
     "name": "stdout",
     "output_type": "stream",
     "text": [
      "['Life Made WI-Fi Touchscreen Photo Frame', '1.9', '19', '3.0M', '1,000+', 'Free', '0', 'Everyone', '', 'February 11, 2018', '1.0.19', '4.0 and up']\n"
     ]
    }
   ],
   "source": [
    "print(android[10472])"
   ]
  },
  {
   "cell_type": "markdown",
   "metadata": {},
   "source": [
    "We observe that there no catergory (2nd column), but a rating instead. So we delete the row:"
   ]
  },
  {
   "cell_type": "code",
   "execution_count": 7,
   "metadata": {},
   "outputs": [],
   "source": [
    "del android[10472]"
   ]
  },
  {
   "cell_type": "markdown",
   "metadata": {},
   "source": [
    "## Step 2: \n",
    "We will check the datasets for duplicate entries (an app appearing more than once):"
   ]
  },
  {
   "cell_type": "code",
   "execution_count": 8,
   "metadata": {},
   "outputs": [],
   "source": [
    "def check_for_duplicates(dataset):\n",
    "    duplicates=[]\n",
    "    unique=[]\n",
    "\n",
    "    for row in dataset:\n",
    "        name=row[0]\n",
    "        if name in unique:\n",
    "            duplicates.append(name)\n",
    "        else:\n",
    "            unique.append(name)\n",
    "    \n",
    "    print('Number of duplicate apps:',len(duplicates))\n",
    "    print('Number of unique apps:',len(duplicates))\n",
    "    print('\\n')\n",
    "    if len(duplicates)!=0:\n",
    "        print('Some of the duplicates are:')\n",
    "        print(duplicates[:25])\n",
    "        \n",
    "   \n",
    "            "
   ]
  },
  {
   "cell_type": "markdown",
   "metadata": {},
   "source": [
    " Duplicates in Apple Store Dataset?"
   ]
  },
  {
   "cell_type": "code",
   "execution_count": 9,
   "metadata": {
    "scrolled": true
   },
   "outputs": [
    {
     "name": "stdout",
     "output_type": "stream",
     "text": [
      "Number of duplicate apps: 0\n",
      "Number of unique apps: 0\n",
      "\n",
      "\n"
     ]
    }
   ],
   "source": [
    "check_for_duplicates(ios)"
   ]
  },
  {
   "cell_type": "markdown",
   "metadata": {},
   "source": [
    " Duplicates in Google PlayStore Dataset?"
   ]
  },
  {
   "cell_type": "code",
   "execution_count": 10,
   "metadata": {
    "scrolled": true
   },
   "outputs": [
    {
     "name": "stdout",
     "output_type": "stream",
     "text": [
      "Number of duplicate apps: 1181\n",
      "Number of unique apps: 1181\n",
      "\n",
      "\n",
      "Some of the duplicates are:\n",
      "['Quick PDF Scanner + OCR FREE', 'Box', 'Google My Business', 'ZOOM Cloud Meetings', 'join.me - Simple Meetings', 'Box', 'Zenefits', 'Google Ads', 'Google My Business', 'Slack', 'FreshBooks Classic', 'Insightly CRM', 'QuickBooks Accounting: Invoicing & Expenses', 'HipChat - Chat Built for Teams', 'Xero Accounting Software', 'MailChimp - Email, Marketing Automation', 'Crew - Free Messaging and Scheduling', 'Asana: organize team projects', 'Google Analytics', 'AdWords Express', 'Accounting App - Zoho Books', 'Invoice & Time Tracking - Zoho', 'join.me - Simple Meetings', 'Invoice 2go — Professional Invoices and Estimates', 'SignEasy | Sign and Fill PDF and other Documents']\n"
     ]
    }
   ],
   "source": [
    "check_for_duplicates(android)"
   ]
  },
  {
   "cell_type": "markdown",
   "metadata": {},
   "source": [
    "Going back to the datasets discussions we find that instagram is in 'duplicates' so we will display them to find out more about this issue:"
   ]
  },
  {
   "cell_type": "code",
   "execution_count": 11,
   "metadata": {},
   "outputs": [
    {
     "name": "stdout",
     "output_type": "stream",
     "text": [
      "['Instagram', 'SOCIAL', '4.5', '66577313', 'Varies with device', '1,000,000,000+', 'Free', '0', 'Teen', 'Social', 'July 31, 2018', 'Varies with device', 'Varies with device']\n",
      "['Instagram', 'SOCIAL', '4.5', '66577446', 'Varies with device', '1,000,000,000+', 'Free', '0', 'Teen', 'Social', 'July 31, 2018', 'Varies with device', 'Varies with device']\n",
      "['Instagram', 'SOCIAL', '4.5', '66577313', 'Varies with device', '1,000,000,000+', 'Free', '0', 'Teen', 'Social', 'July 31, 2018', 'Varies with device', 'Varies with device']\n",
      "['Instagram', 'SOCIAL', '4.5', '66509917', 'Varies with device', '1,000,000,000+', 'Free', '0', 'Teen', 'Social', 'July 31, 2018', 'Varies with device', 'Varies with device']\n"
     ]
    }
   ],
   "source": [
    "for row in android:\n",
    "    if row[0]=='Instagram':\n",
    "        print(row)"
   ]
  },
  {
   "cell_type": "markdown",
   "metadata": {},
   "source": [
    "We notice that the only difference happens on the fourth position of each row, which indicates the number of reviews.\n",
    "This means that when the information about an app changes, a duplicate row is created. \n",
    "So instead of deleting the duplicates randomly, we will keep the newest row (indicated by the highest number of reviews)."
   ]
  },
  {
   "cell_type": "markdown",
   "metadata": {},
   "source": [
    "To proceed with what we mentioned above, we will use a dictionary:"
   ]
  },
  {
   "cell_type": "code",
   "execution_count": 12,
   "metadata": {},
   "outputs": [],
   "source": [
    "reviews_max={}\n",
    "\n",
    "for row in android:\n",
    "    name=row[0]\n",
    "    n_reviews=float(row[3])\n",
    "    if (name in reviews_max):\n",
    "        if (n_reviews>reviews_max[name]):\n",
    "            reviews_max[name]=n_reviews\n",
    "    else:\n",
    "        reviews_max[name]=n_reviews\n",
    "    "
   ]
  },
  {
   "cell_type": "markdown",
   "metadata": {},
   "source": [
    "We will inspect the dictionary to make sure everything went as expected.\n",
    "We expect to have:"
   ]
  },
  {
   "cell_type": "code",
   "execution_count": 13,
   "metadata": {},
   "outputs": [
    {
     "name": "stdout",
     "output_type": "stream",
     "text": [
      "9659 entries\n"
     ]
    }
   ],
   "source": [
    "print(len(android)-1181, \"entries\")"
   ]
  },
  {
   "cell_type": "markdown",
   "metadata": {},
   "source": [
    "And in the dictionary there are:"
   ]
  },
  {
   "cell_type": "code",
   "execution_count": 14,
   "metadata": {},
   "outputs": [
    {
     "name": "stdout",
     "output_type": "stream",
     "text": [
      "9659 entries\n"
     ]
    }
   ],
   "source": [
    "print(len(reviews_max), \"entries\")"
   ]
  },
  {
   "cell_type": "markdown",
   "metadata": {},
   "source": [
    "We will now clean the android dataset.\n",
    "We create a new list (of lists) for the clean data and we use a list to help us keep track of the app that we have already added to it:"
   ]
  },
  {
   "cell_type": "code",
   "execution_count": 15,
   "metadata": {},
   "outputs": [],
   "source": [
    "android_clean=[]\n",
    "already_added=[]\n",
    "\n",
    "for row in android:\n",
    "    name=row[0]\n",
    "    n_reviews=float(row[3])\n",
    "    if (((name in already_added) ==0) & (n_reviews==reviews_max[name])):\n",
    "        already_added.append(name)\n",
    "        android_clean.append(row)\n",
    "        "
   ]
  },
  {
   "cell_type": "code",
   "execution_count": 16,
   "metadata": {},
   "outputs": [
    {
     "name": "stdout",
     "output_type": "stream",
     "text": [
      "The android_clean dataset contains 9659 entries\n"
     ]
    }
   ],
   "source": [
    "print(\"The android_clean dataset contains\" ,len(android_clean), \"entries\")"
   ]
  },
  {
   "cell_type": "markdown",
   "metadata": {},
   "source": [
    "## Step 3:\n",
    "If we take a look at the last rows of the Apple Store datasets, we find non-english apps:\n"
   ]
  },
  {
   "cell_type": "code",
   "execution_count": 17,
   "metadata": {
    "scrolled": true
   },
   "outputs": [
    {
     "name": "stdout",
     "output_type": "stream",
     "text": [
      "Apple Store dataset:\n",
      "\n",
      "\n",
      "['11051', '1186126548', 'Escape Game: illumination', '52342784', 'USD', '0', '23', '23', '4.5', '4.5', '1.0', '4+', 'Games', '37', '5', '2', '1']\n",
      "\n",
      "\n",
      "['11060', '1186384912', 'Demolition Derby Virtual Reality (VR) Racing', '168774656', 'USD', '0', '18', '18', '4', '4', '1.0.0', '12+', 'Games', '38', '4', '1', '1']\n",
      "\n",
      "\n",
      "['11074', '1187128255', '飞刀传奇-动作武侠热血江湖即时PK传奇（登录爆金装）', '537462784', 'USD', '0.99', '0', '0', '0', '0', '2.1.0', '9+', 'Games', '38', '5', '1', '1']\n",
      "\n",
      "\n",
      "['11077', '1187279979', 'Add-Ons Studio for Minecraft', '22999040', 'USD', '2.99', '97', '97', '3', '3', '1.0', '4+', 'Games', '37', '5', '3', '1']\n",
      "\n",
      "\n",
      "['11079', '1187282363', 'Plead the Fifth - The Game', '27853824', 'USD', '2.99', '11', '0', '4', '0', '1.1.1', '17+', 'Games', '37', '0', '1', '1']\n",
      "\n",
      "\n"
     ]
    }
   ],
   "source": [
    "print(\"Apple Store dataset:\")\n",
    "print(\"\\n\")\n",
    "explore_data(ios,len(ios)-10,len(ios)-5)"
   ]
  },
  {
   "cell_type": "markdown",
   "metadata": {},
   "source": [
    "Now since the apps we develop at our company use the english language, we only want to analyze apps that are directed towards english speaking audience. \n",
    "So let us remove Non-English entires:"
   ]
  },
  {
   "cell_type": "code",
   "execution_count": 18,
   "metadata": {},
   "outputs": [],
   "source": [
    "## Function that checks if a string is not in english\n",
    "## It will classify a string as \"non-english\" if it has more than 3 \n",
    "## characters outside the ASCII range of characters commonly used in english\n",
    "def english_string_checker(string):\n",
    "    count=0\n",
    "    for character in string:\n",
    "        if (ord(character)>127):\n",
    "            count+=1\n",
    "        \n",
    "\n",
    "    if count>3:\n",
    "         return False\n",
    "    else:\n",
    "        return True"
   ]
  },
  {
   "cell_type": "code",
   "execution_count": 19,
   "metadata": {},
   "outputs": [
    {
     "name": "stdout",
     "output_type": "stream",
     "text": [
      "True\n",
      "False\n",
      "True\n",
      "True\n"
     ]
    }
   ],
   "source": [
    "print(english_string_checker('Instagram'))\n",
    "print(english_string_checker('爱奇艺PPS -《欢乐颂2》电视剧热播'))\n",
    "print(english_string_checker('Docs To Go™ Free Office Suite'))\n",
    "print(english_string_checker('Instachat 😜'))"
   ]
  },
  {
   "cell_type": "code",
   "execution_count": 20,
   "metadata": {},
   "outputs": [],
   "source": [
    "##This function will return a clean dataset\n",
    "## dataset_num: ios->0    android->1 because the name of the app is not \n",
    "## stored in the same index for both datasets\n",
    "\n",
    "def only_english(dataset,dataset_num):\n",
    "    new_dataset=[]\n",
    "    if dataset:\n",
    "        i=0\n",
    "    else:\n",
    "        i=2\n",
    "        \n",
    "    for row in dataset:\n",
    "        name=row[i]\n",
    "        if english_string_checker(name)==True:\n",
    "            new_dataset.append(row)\n",
    "            \n",
    "    return new_dataset\n",
    "            "
   ]
  },
  {
   "cell_type": "code",
   "execution_count": 21,
   "metadata": {},
   "outputs": [],
   "source": [
    "ios_english=only_english(ios,0)\n",
    "android_english=only_english(android_clean,1)"
   ]
  },
  {
   "cell_type": "code",
   "execution_count": 22,
   "metadata": {},
   "outputs": [
    {
     "name": "stdout",
     "output_type": "stream",
     "text": [
      "Remaining rows for IOS: 7197\n",
      "Remaining rows for Android: 9614\n"
     ]
    }
   ],
   "source": [
    "print(\"Remaining rows for IOS:\", len(ios_english))\n",
    "print(\"Remaining rows for Android:\" ,len(android_english))"
   ]
  },
  {
   "cell_type": "markdown",
   "metadata": {},
   "source": [
    "## Step 4:\n",
    "As we mentioned earlier our main source of income is form in-app adds, so our apps are free. Therefore, we must focus our analysis on free apps.\n",
    "This will be the final step of the data cleaning process."
   ]
  },
  {
   "cell_type": "code",
   "execution_count": 23,
   "metadata": {},
   "outputs": [],
   "source": [
    "ios_data=[]\n",
    "android_data=[]\n",
    "\n",
    "for app in android_english:\n",
    "    price=app[7]\n",
    "    if price=='0':\n",
    "        android_data.append(app)\n",
    "        \n",
    "for app in ios_english:\n",
    "    price=app[5]\n",
    "    if price=='0':\n",
    "        ios_data.append(app)\n",
    "    \n",
    "    "
   ]
  },
  {
   "cell_type": "code",
   "execution_count": 24,
   "metadata": {},
   "outputs": [
    {
     "name": "stdout",
     "output_type": "stream",
     "text": [
      "Remaining rows for IOS: 4056\n",
      "Remaining rows for Android: 8864\n"
     ]
    }
   ],
   "source": [
    "print(\"Remaining rows for IOS:\", len(ios_data))\n",
    "print(\"Remaining rows for Android:\" ,len(android_data))"
   ]
  },
  {
   "cell_type": "markdown",
   "metadata": {},
   "source": [
    "# Analysis\n",
    "\n",
    "## Most common apps by genre\n",
    "\n",
    "As we mentioned earlier, our end goal is to create a profitable app for the App Store and google play. \n",
    "To minimize the risks we will:\n",
    "* Build a simplistic Android version of an app and add it to Google play\n",
    "* Track the users response to the app and develop it further if it received a positive feedback\n",
    "* If it is profitable after six months, we buildl an iOS version of the app and add it to the App Store\n",
    "\n",
    "It is therefore essential that we find an app profile that fits both stores.\n",
    "\n",
    "As a reminder, these are the columns of each data set:"
   ]
  },
  {
   "cell_type": "code",
   "execution_count": 25,
   "metadata": {},
   "outputs": [
    {
     "name": "stdout",
     "output_type": "stream",
     "text": [
      "['App', 'Category', 'Rating', 'Reviews', 'Size', 'Installs', 'Type', 'Price', 'Content Rating', 'Genres', 'Last Updated', 'Current Ver', 'Android Ver']\n",
      "\n",
      " \n",
      "\n",
      "['', 'id', 'track_name', 'size_bytes', 'currency', 'price', 'rating_count_tot', 'rating_count_ver', 'user_rating', 'user_rating_ver', 'ver', 'cont_rating', 'prime_genre', 'sup_devices.num', 'ipadSc_urls.num', 'lang.num', 'vpp_lic']\n"
     ]
    }
   ],
   "source": [
    "print(android_header)\n",
    "print('\\n','\\n')\n",
    "print(ios_header)"
   ]
  },
  {
   "cell_type": "markdown",
   "metadata": {},
   "source": [
    "To determine to most common genres in each market we must use:\n",
    "* Android: `Category` (column 1) and `Genres` (column 9)\n",
    "* IOS: `prime_genre` (column 12)\n",
    "\n",
    "We will now sort the apps from most to least common."
   ]
  },
  {
   "cell_type": "code",
   "execution_count": 26,
   "metadata": {},
   "outputs": [],
   "source": [
    "def freq_table(dataset,index):\n",
    "    dictionnary={}\n",
    "    dict_percentage={}\n",
    "    total=0\n",
    "    for row in dataset:\n",
    "        field=row[index]\n",
    "        if field in dictionnary:\n",
    "            dictionnary[field]+=1\n",
    "            total+=1\n",
    "            \n",
    "        else:\n",
    "            dictionnary[field]=1\n",
    "            total+=1\n",
    "        \n",
    "        for key in dictionnary:\n",
    "            dict_percentage[key]=(dictionnary[key]/total)*100\n",
    "            \n",
    "    return dict_percentage\n"
   ]
  },
  {
   "cell_type": "code",
   "execution_count": 27,
   "metadata": {},
   "outputs": [],
   "source": [
    "def display_table(dataset, index):\n",
    "    table = freq_table(dataset, index)\n",
    "    table_display = []\n",
    "    for key in table:\n",
    "        key_val_as_tuple = (table[key], key)\n",
    "        table_display.append(key_val_as_tuple)\n",
    "\n",
    "    table_sorted = sorted(table_display, reverse = True)\n",
    "    for entry in table_sorted:\n",
    "        print(entry[1], ':', entry[0], '%')"
   ]
  },
  {
   "cell_type": "code",
   "execution_count": 28,
   "metadata": {},
   "outputs": [
    {
     "name": "stdout",
     "output_type": "stream",
     "text": [
      "Google Play by category:\n",
      "\n",
      "\n",
      "FAMILY : 18.907942238267147 %\n",
      "GAME : 9.724729241877256 %\n",
      "TOOLS : 8.461191335740072 %\n",
      "BUSINESS : 4.591606498194946 %\n",
      "LIFESTYLE : 3.9034296028880866 %\n",
      "PRODUCTIVITY : 3.892148014440433 %\n",
      "FINANCE : 3.7003610108303246 %\n",
      "MEDICAL : 3.531137184115524 %\n",
      "SPORTS : 3.395758122743682 %\n",
      "PERSONALIZATION : 3.3167870036101084 %\n",
      "COMMUNICATION : 3.2378158844765346 %\n",
      "HEALTH_AND_FITNESS : 3.0798736462093865 %\n",
      "PHOTOGRAPHY : 2.944494584837545 %\n",
      "NEWS_AND_MAGAZINES : 2.7978339350180503 %\n",
      "SOCIAL : 2.6624548736462095 %\n",
      "TRAVEL_AND_LOCAL : 2.33528880866426 %\n",
      "SHOPPING : 2.2450361010830324 %\n",
      "BOOKS_AND_REFERENCE : 2.1435018050541514 %\n",
      "DATING : 1.861462093862816 %\n",
      "VIDEO_PLAYERS : 1.7937725631768955 %\n",
      "MAPS_AND_NAVIGATION : 1.3989169675090252 %\n",
      "FOOD_AND_DRINK : 1.2409747292418771 %\n",
      "EDUCATION : 1.1620036101083033 %\n",
      "ENTERTAINMENT : 0.9589350180505415 %\n",
      "LIBRARIES_AND_DEMO : 0.9363718411552346 %\n",
      "AUTO_AND_VEHICLES : 0.9250902527075812 %\n",
      "HOUSE_AND_HOME : 0.8235559566787004 %\n",
      "WEATHER : 0.8009927797833934 %\n",
      "EVENTS : 0.7107400722021661 %\n",
      "PARENTING : 0.6543321299638989 %\n",
      "ART_AND_DESIGN : 0.6430505415162455 %\n",
      "COMICS : 0.6204873646209386 %\n",
      "BEAUTY : 0.5979241877256317 %\n"
     ]
    }
   ],
   "source": [
    "print('Google Play by category:')\n",
    "print('\\n')\n",
    "display_table(android_data,1)"
   ]
  },
  {
   "cell_type": "code",
   "execution_count": 29,
   "metadata": {
    "scrolled": true
   },
   "outputs": [
    {
     "name": "stdout",
     "output_type": "stream",
     "text": [
      "Google Play by genre:\n",
      "\n",
      "\n",
      "Tools : 8.449909747292418 %\n",
      "Entertainment : 6.069494584837545 %\n",
      "Education : 5.347472924187725 %\n",
      "Business : 4.591606498194946 %\n",
      "Productivity : 3.892148014440433 %\n",
      "Lifestyle : 3.892148014440433 %\n",
      "Finance : 3.7003610108303246 %\n",
      "Medical : 3.531137184115524 %\n",
      "Sports : 3.463447653429603 %\n",
      "Personalization : 3.3167870036101084 %\n",
      "Communication : 3.2378158844765346 %\n",
      "Action : 3.1024368231046933 %\n",
      "Health & Fitness : 3.0798736462093865 %\n",
      "Photography : 2.944494584837545 %\n",
      "News & Magazines : 2.7978339350180503 %\n",
      "Social : 2.6624548736462095 %\n",
      "Travel & Local : 2.3240072202166067 %\n",
      "Shopping : 2.2450361010830324 %\n",
      "Books & Reference : 2.1435018050541514 %\n",
      "Simulation : 2.0419675090252705 %\n",
      "Dating : 1.861462093862816 %\n",
      "Arcade : 1.8501805054151623 %\n",
      "Video Players & Editors : 1.7712093862815883 %\n",
      "Casual : 1.7599277978339352 %\n",
      "Maps & Navigation : 1.3989169675090252 %\n",
      "Food & Drink : 1.2409747292418771 %\n",
      "Puzzle : 1.128158844765343 %\n",
      "Racing : 0.9927797833935018 %\n",
      "Role Playing : 0.9363718411552346 %\n",
      "Libraries & Demo : 0.9363718411552346 %\n",
      "Auto & Vehicles : 0.9250902527075812 %\n",
      "Strategy : 0.9138086642599278 %\n",
      "House & Home : 0.8235559566787004 %\n",
      "Weather : 0.8009927797833934 %\n",
      "Events : 0.7107400722021661 %\n",
      "Adventure : 0.6768953068592057 %\n",
      "Comics : 0.6092057761732852 %\n",
      "Beauty : 0.5979241877256317 %\n",
      "Art & Design : 0.5979241877256317 %\n",
      "Parenting : 0.4963898916967509 %\n",
      "Card : 0.45126353790613716 %\n",
      "Casino : 0.42870036101083037 %\n",
      "Trivia : 0.41741877256317694 %\n",
      "Educational;Education : 0.39485559566787 %\n",
      "Board : 0.3835740072202166 %\n",
      "Educational : 0.3722924187725632 %\n",
      "Education;Education : 0.33844765342960287 %\n",
      "Word : 0.2594765342960289 %\n",
      "Casual;Pretend Play : 0.236913357400722 %\n",
      "Music : 0.2030685920577617 %\n",
      "Racing;Action & Adventure : 0.16922382671480143 %\n",
      "Puzzle;Brain Games : 0.16922382671480143 %\n",
      "Entertainment;Music & Video : 0.16922382671480143 %\n",
      "Casual;Brain Games : 0.13537906137184114 %\n",
      "Casual;Action & Adventure : 0.13537906137184114 %\n",
      "Arcade;Action & Adventure : 0.12409747292418773 %\n",
      "Action;Action & Adventure : 0.10153429602888085 %\n",
      "Educational;Pretend Play : 0.09025270758122744 %\n",
      "Simulation;Action & Adventure : 0.078971119133574 %\n",
      "Parenting;Education : 0.078971119133574 %\n",
      "Entertainment;Brain Games : 0.078971119133574 %\n",
      "Board;Brain Games : 0.078971119133574 %\n",
      "Parenting;Music & Video : 0.06768953068592057 %\n",
      "Educational;Brain Games : 0.06768953068592057 %\n",
      "Casual;Creativity : 0.06768953068592057 %\n",
      "Art & Design;Creativity : 0.06768953068592057 %\n",
      "Education;Pretend Play : 0.056407942238267145 %\n",
      "Role Playing;Pretend Play : 0.04512635379061372 %\n",
      "Education;Creativity : 0.04512635379061372 %\n",
      "Role Playing;Action & Adventure : 0.033844765342960284 %\n",
      "Puzzle;Action & Adventure : 0.033844765342960284 %\n",
      "Entertainment;Creativity : 0.033844765342960284 %\n",
      "Entertainment;Action & Adventure : 0.033844765342960284 %\n",
      "Educational;Creativity : 0.033844765342960284 %\n",
      "Educational;Action & Adventure : 0.033844765342960284 %\n",
      "Education;Music & Video : 0.033844765342960284 %\n",
      "Education;Brain Games : 0.033844765342960284 %\n",
      "Education;Action & Adventure : 0.033844765342960284 %\n",
      "Adventure;Action & Adventure : 0.033844765342960284 %\n",
      "Video Players & Editors;Music & Video : 0.02256317689530686 %\n",
      "Sports;Action & Adventure : 0.02256317689530686 %\n",
      "Simulation;Pretend Play : 0.02256317689530686 %\n",
      "Puzzle;Creativity : 0.02256317689530686 %\n",
      "Music;Music & Video : 0.02256317689530686 %\n",
      "Entertainment;Pretend Play : 0.02256317689530686 %\n",
      "Casual;Education : 0.02256317689530686 %\n",
      "Board;Action & Adventure : 0.02256317689530686 %\n",
      "Video Players & Editors;Creativity : 0.01128158844765343 %\n",
      "Trivia;Education : 0.01128158844765343 %\n",
      "Travel & Local;Action & Adventure : 0.01128158844765343 %\n",
      "Tools;Education : 0.01128158844765343 %\n",
      "Strategy;Education : 0.01128158844765343 %\n",
      "Strategy;Creativity : 0.01128158844765343 %\n",
      "Strategy;Action & Adventure : 0.01128158844765343 %\n",
      "Simulation;Education : 0.01128158844765343 %\n",
      "Role Playing;Brain Games : 0.01128158844765343 %\n",
      "Racing;Pretend Play : 0.01128158844765343 %\n",
      "Puzzle;Education : 0.01128158844765343 %\n",
      "Parenting;Brain Games : 0.01128158844765343 %\n",
      "Music & Audio;Music & Video : 0.01128158844765343 %\n",
      "Lifestyle;Pretend Play : 0.01128158844765343 %\n",
      "Lifestyle;Education : 0.01128158844765343 %\n",
      "Health & Fitness;Education : 0.01128158844765343 %\n",
      "Health & Fitness;Action & Adventure : 0.01128158844765343 %\n",
      "Entertainment;Education : 0.01128158844765343 %\n",
      "Communication;Creativity : 0.01128158844765343 %\n",
      "Comics;Creativity : 0.01128158844765343 %\n",
      "Casual;Music & Video : 0.01128158844765343 %\n",
      "Card;Action & Adventure : 0.01128158844765343 %\n",
      "Books & Reference;Education : 0.01128158844765343 %\n",
      "Art & Design;Pretend Play : 0.01128158844765343 %\n",
      "Art & Design;Action & Adventure : 0.01128158844765343 %\n",
      "Arcade;Pretend Play : 0.01128158844765343 %\n",
      "Adventure;Education : 0.01128158844765343 %\n"
     ]
    }
   ],
   "source": [
    "print('Google Play by genre:')\n",
    "print('\\n')\n",
    "display_table(android_data,9)"
   ]
  },
  {
   "cell_type": "markdown",
   "metadata": {},
   "source": [
    "* The most common category is `FAMILY`, followed by `GAMES` which half as frequent as the first. \n",
    "* The most common genre is `Tools` followed by `Entertainment`"
   ]
  },
  {
   "cell_type": "code",
   "execution_count": 30,
   "metadata": {
    "scrolled": true
   },
   "outputs": [
    {
     "name": "stdout",
     "output_type": "stream",
     "text": [
      "App Store by Prime genre:\n",
      "\n",
      "\n",
      "Games : 55.64595660749507 %\n",
      "Entertainment : 8.234714003944774 %\n",
      "Photo & Video : 4.117357001972387 %\n",
      "Social Networking : 3.5256410256410255 %\n",
      "Education : 3.2544378698224854 %\n",
      "Shopping : 2.983234714003945 %\n",
      "Utilities : 2.687376725838264 %\n",
      "Lifestyle : 2.3175542406311638 %\n",
      "Finance : 2.0710059171597637 %\n",
      "Sports : 1.947731755424063 %\n",
      "Health & Fitness : 1.8737672583826428 %\n",
      "Music : 1.6518737672583828 %\n",
      "Book : 1.6272189349112427 %\n",
      "Productivity : 1.5285996055226825 %\n",
      "News : 1.4299802761341223 %\n",
      "Travel : 1.3806706114398422 %\n",
      "Food & Drink : 1.0601577909270217 %\n",
      "Weather : 0.7642998027613412 %\n",
      "Reference : 0.4930966469428008 %\n",
      "Navigation : 0.4930966469428008 %\n",
      "Business : 0.4930966469428008 %\n",
      "Catalogs : 0.22189349112426035 %\n",
      "Medical : 0.19723865877712032 %\n"
     ]
    }
   ],
   "source": [
    "print('App Store by Prime genre:')\n",
    "print('\\n')\n",
    "display_table(ios_data,12)"
   ]
  },
  {
   "cell_type": "markdown",
   "metadata": {},
   "source": [
    "* We can see that the most common genre of apps in the App store is `Games`, as more than half of the apps are games. The second place goes to `Entertainment` whith a considerable difference in percentage. \n",
    "* Other notable common genres are `Photo & Video`, `Social Networking` and `Education` which constitute 10% of the apps.\n",
    "* The general impression is that most of the apps are designed for fun, intertainment and socializing.\n",
    "<br>\n",
    "<br>\n",
    "<br>\n",
    "\n",
    "Comparing the results of both stores, we notice that in the App Store a striking portion of the apps are games. In the Google Play Store the apps are more equally distributed among categories.\n",
    "\n",
    "One similarity between the two stores is the presence of \"fun\" categories at the top of the ranking. This could mean two things:\n",
    "1. The demand for these apps is high, which encourages developpers to release new apps\n",
    "2. The competition is much higher when it comes to entertainment and games. \n",
    "<br>\n",
    "<br>\n",
    "<br>\n",
    "\n",
    "**However** these numbers only represent the number of apps within a certain category and not the populariy of a category. So we cannot make any conclusion regarding the genre of the app we want to build.\n",
    " \n"
   ]
  },
  {
   "cell_type": "markdown",
   "metadata": {},
   "source": [
    "## Most Popular Apps by Genre\n",
    "<br>\n",
    "\n",
    "###  App Store\n",
    "Unlike the Google Play dataset, the Appstore dataset does not contain any columns for `installs`. So as a workaround we will take the total number of user rating as a proxy, which we can find in the `rating_count_tot`.\n",
    "<br>\n",
    "\n",
    "We will start by calculating the average rating per app genre on the App Store:\n",
    "\n"
   ]
  },
  {
   "cell_type": "code",
   "execution_count": 69,
   "metadata": {},
   "outputs": [],
   "source": [
    "unique_genre=freq_table(ios_data,12)\n",
    "ios_avg_rating={}\n",
    "\n",
    "for genre in unique_genre:\n",
    "    ios_avg_rating[genre]=0\n",
    "    total=0\n",
    "    len_genre=0\n",
    "    for row in ios_data:\n",
    "        if (row[12]==genre):\n",
    "            len_genre+=1\n",
    "            total+=float(row[6])\n",
    "    ios_avg_rating[genre]=total/len_genre\n",
    "ios_avg_rating_list=[]    \n",
    "for genre in ios_avg_rating:\n",
    "    ios_avg_rating_list.append((genre, ios_avg_rating[genre]))"
   ]
  },
  {
   "cell_type": "code",
   "execution_count": 70,
   "metadata": {},
   "outputs": [
    {
     "name": "stdout",
     "output_type": "stream",
     "text": [
      "Average number of rating by category:  \n",
      "\n",
      "Reference : 67447.9\n",
      "Music : 56482.02985074627\n",
      "Social Networking : 53078.195804195806\n",
      "Weather : 47220.93548387097\n",
      "Photo & Video : 27249.892215568863\n",
      "Navigation : 25972.05\n",
      "Travel : 20216.01785714286\n",
      "Food & Drink : 20179.093023255813\n",
      "Sports : 20128.974683544304\n",
      "Health & Fitness : 19952.315789473683\n",
      "Productivity : 19053.887096774193\n",
      "Games : 18924.68896765618\n",
      "Shopping : 18746.677685950413\n",
      "News : 15892.724137931034\n",
      "Utilities : 14010.100917431193\n",
      "Finance : 13522.261904761905\n",
      "Entertainment : 10822.961077844311\n",
      "Lifestyle : 8978.308510638299\n",
      "Book : 8498.333333333334\n",
      "Business : 6367.8\n",
      "Education : 6266.333333333333\n",
      "Catalogs : 1779.5555555555557\n",
      "Medical : 459.75\n"
     ]
    }
   ],
   "source": [
    "print(\"Average number of rating by category: \", '\\n')\n",
    "\n",
    "#print sorted\n",
    "for genre in sorted(ios_avg_rating_list, key= lambda x :x[1],reverse=True): \n",
    "    print(genre[0],\":\", genre[1])\n",
    "    \n"
   ]
  },
  {
   "cell_type": "markdown",
   "metadata": {},
   "source": [
    "The most popular categories based on the rating count are `Reference`, `Music`, `Social Networking` and `Weather` with a fairly close score ranging from 47k ratings to 68k ratings.\n",
    "<br>\n",
    "\n",
    "It is undeniable that the Music and Social Networking fields are dominated by very popular apps such as **Spotify**, **Instagram**, **Twitter** or **Facebook**. So it would be extremely difficult to compete in such categories, especially that our company is not focused on a single app.\n",
    "<br>\n",
    "\n",
    "Based on these observations, we would recommend building an app that falls into `Reference` category for the App Store. These app are usually used on a daily basis and could potentantially attract more users than would the games. \n"
   ]
  },
  {
   "cell_type": "markdown",
   "metadata": {},
   "source": [
    "### Google Play \n",
    "\n",
    "On google play the number of Installs for each app is denoted within a certain range : 100 000+, 300 000+ ...\n",
    "Although these number are not precise, they should be enough for us to get a general idea on the most popular categories of apps."
   ]
  },
  {
   "cell_type": "code",
   "execution_count": 74,
   "metadata": {},
   "outputs": [],
   "source": [
    "unique_category=freq_table(android_data,1)\n",
    "install_list=[]\n",
    "\n",
    "for category in unique_category:\n",
    "    total=0\n",
    "    len_category=0\n",
    "    for row in android_data:\n",
    "        category_app=row[1]\n",
    "        if category_app==category:\n",
    "            cleaning_install=row[5].replace(',','')\n",
    "            cleaning_install=cleaning_install.replace('+','')\n",
    "            total+=float(cleaning_install) #To remove the + character\n",
    "            len_category+=1\n",
    "            \n",
    "    install_list.append((category,total/len_category))\n",
    "        \n",
    "        \n",
    "    "
   ]
  },
  {
   "cell_type": "code",
   "execution_count": 77,
   "metadata": {
    "scrolled": true
   },
   "outputs": [
    {
     "name": "stdout",
     "output_type": "stream",
     "text": [
      "Average number of installs per category: \n",
      "\n",
      "COMMUNICATION : 38456119.167247385\n",
      "VIDEO_PLAYERS : 24727872.452830188\n",
      "SOCIAL : 23253652.127118643\n",
      "PHOTOGRAPHY : 17840110.40229885\n",
      "PRODUCTIVITY : 16787331.344927534\n",
      "GAME : 15588015.603248259\n",
      "TRAVEL_AND_LOCAL : 13984077.710144928\n",
      "ENTERTAINMENT : 11640705.88235294\n",
      "TOOLS : 10801391.298666667\n",
      "NEWS_AND_MAGAZINES : 9549178.467741935\n",
      "BOOKS_AND_REFERENCE : 8767811.894736841\n",
      "SHOPPING : 7036877.311557789\n",
      "PERSONALIZATION : 5201482.6122448975\n",
      "WEATHER : 5074486.197183099\n",
      "HEALTH_AND_FITNESS : 4188821.9853479853\n",
      "MAPS_AND_NAVIGATION : 4056941.7741935486\n",
      "FAMILY : 3695641.8198090694\n",
      "SPORTS : 3638640.1428571427\n",
      "ART_AND_DESIGN : 1986335.0877192982\n",
      "FOOD_AND_DRINK : 1924897.7363636363\n",
      "EDUCATION : 1833495.145631068\n",
      "BUSINESS : 1712290.1474201474\n",
      "LIFESTYLE : 1437816.2687861272\n",
      "FINANCE : 1387692.475609756\n",
      "HOUSE_AND_HOME : 1331540.5616438356\n",
      "DATING : 854028.8303030303\n",
      "COMICS : 817657.2727272727\n",
      "AUTO_AND_VEHICLES : 647317.8170731707\n",
      "LIBRARIES_AND_DEMO : 638503.734939759\n",
      "PARENTING : 542603.6206896552\n",
      "BEAUTY : 513151.88679245283\n",
      "EVENTS : 253542.22222222222\n",
      "MEDICAL : 120550.61980830671\n"
     ]
    }
   ],
   "source": [
    "print('Average number of installs per category:','\\n')\n",
    "for category in sorted(install_list, key= lambda x :x[1],reverse=True):\n",
    "    print(category[0],':', category[1])"
   ]
  },
  {
   "cell_type": "markdown",
   "metadata": {},
   "source": [
    "The most installed apps on Google Play belong to the categories `Communication`, `Video_Players`, `Social`, `Photography`, `Productivity`, `Game` and `Travel_And_Local` with a fairly equal distribution.\n",
    "<br>\n",
    "\n",
    "As we mentioned earlier `Communication`, `Social` are very popular but difficult categories to compete in. In this case `Video_player` category is definitely dominated by **Youtube**. The remaining apps are in the categories `Photography`, `Productivity`, `Game` and `Travel_And_Local`, which in exception of games are apps that are used daily for practical purposes. \n"
   ]
  },
  {
   "cell_type": "markdown",
   "metadata": {},
   "source": [
    "# Conclusion\n",
    "<br>\n",
    "\n",
    "* The stores are clearly flooded with games, so it would be risky to get into game development. However, this trend of \"fun\" apps indicate that there are alot of users seeking entertainment in both the Apple Store. \n",
    "* Social Networking and communication apps are very popular but the competition is too high. These categories are led by giants such as **Whatsapp** and **Facebook**. Getting into this field would be very dangerous and difficult. \n",
    "* Apps that are used daily for practical purposes are also very popular.\n",
    "\n",
    "The ideal app to develop would have a fun and entertaining side and would be daily used as a reference or tool.\n",
    "A good app that matches this profile is a Book of self help, comedy or technical knowledge. But since both app store are already flooded by libraries we could add features to the book: Interactive reading, adding notes, sharing paragraphs with friends, listing underlined sentences in a document... \n"
   ]
  }
 ],
 "metadata": {
  "kernelspec": {
   "display_name": "Python 3",
   "language": "python",
   "name": "python3"
  },
  "language_info": {
   "codemirror_mode": {
    "name": "ipython",
    "version": 3
   },
   "file_extension": ".py",
   "mimetype": "text/x-python",
   "name": "python",
   "nbconvert_exporter": "python",
   "pygments_lexer": "ipython3",
   "version": "3.7.1"
  }
 },
 "nbformat": 4,
 "nbformat_minor": 2
}
